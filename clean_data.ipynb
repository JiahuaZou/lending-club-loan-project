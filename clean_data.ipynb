{
 "cells": [
  {
   "cell_type": "code",
   "execution_count": 1,
   "metadata": {},
   "outputs": [
    {
     "name": "stderr",
     "output_type": "stream",
     "text": [
      "\n",
      "Attaching package: ‘dplyr’\n",
      "\n",
      "The following objects are masked from ‘package:stats’:\n",
      "\n",
      "    filter, lag\n",
      "\n",
      "The following objects are masked from ‘package:base’:\n",
      "\n",
      "    intersect, setdiff, setequal, union\n",
      "\n"
     ]
    }
   ],
   "source": [
    "library(dplyr)\n",
    "library(tidyr)\n",
    "library(ggplot2)"
   ]
  },
  {
   "cell_type": "code",
   "execution_count": 2,
   "metadata": {},
   "outputs": [
    {
     "data": {
      "text/html": [
       "<table>\n",
       "<thead><tr><th scope=col>id</th><th scope=col>member_id</th><th scope=col>loan_amnt</th><th scope=col>funded_amnt</th><th scope=col>funded_amnt_inv</th><th scope=col>term</th><th scope=col>int_rate</th><th scope=col>installment</th><th scope=col>grade</th><th scope=col>sub_grade</th><th scope=col>⋯</th><th scope=col>total_bal_il</th><th scope=col>il_util</th><th scope=col>open_rv_12m</th><th scope=col>open_rv_24m</th><th scope=col>max_bal_bc</th><th scope=col>all_util</th><th scope=col>total_rev_hi_lim</th><th scope=col>inq_fi</th><th scope=col>total_cu_tl</th><th scope=col>inq_last_12m</th></tr></thead>\n",
       "<tbody>\n",
       "\t<tr><td>1077501   </td><td>1296599   </td><td> 5000     </td><td> 5000     </td><td> 4975     </td><td> 36 months</td><td>10.65     </td><td>162.87    </td><td>B         </td><td>B2        </td><td>⋯         </td><td>NA        </td><td>NA        </td><td>NA        </td><td>NA        </td><td>NA        </td><td>NA        </td><td>NA        </td><td>NA        </td><td>NA        </td><td>NA        </td></tr>\n",
       "\t<tr><td>1077430   </td><td>1314167   </td><td> 2500     </td><td> 2500     </td><td> 2500     </td><td> 60 months</td><td>15.27     </td><td> 59.83    </td><td>C         </td><td>C4        </td><td>⋯         </td><td>NA        </td><td>NA        </td><td>NA        </td><td>NA        </td><td>NA        </td><td>NA        </td><td>NA        </td><td>NA        </td><td>NA        </td><td>NA        </td></tr>\n",
       "\t<tr><td>1077175   </td><td>1313524   </td><td> 2400     </td><td> 2400     </td><td> 2400     </td><td> 36 months</td><td>15.96     </td><td> 84.33    </td><td>C         </td><td>C5        </td><td>⋯         </td><td>NA        </td><td>NA        </td><td>NA        </td><td>NA        </td><td>NA        </td><td>NA        </td><td>NA        </td><td>NA        </td><td>NA        </td><td>NA        </td></tr>\n",
       "\t<tr><td>1076863   </td><td>1277178   </td><td>10000     </td><td>10000     </td><td>10000     </td><td> 36 months</td><td>13.49     </td><td>339.31    </td><td>C         </td><td>C1        </td><td>⋯         </td><td>NA        </td><td>NA        </td><td>NA        </td><td>NA        </td><td>NA        </td><td>NA        </td><td>NA        </td><td>NA        </td><td>NA        </td><td>NA        </td></tr>\n",
       "\t<tr><td>1075358   </td><td>1311748   </td><td> 3000     </td><td> 3000     </td><td> 3000     </td><td> 60 months</td><td>12.69     </td><td> 67.79    </td><td>B         </td><td>B5        </td><td>⋯         </td><td>NA        </td><td>NA        </td><td>NA        </td><td>NA        </td><td>NA        </td><td>NA        </td><td>NA        </td><td>NA        </td><td>NA        </td><td>NA        </td></tr>\n",
       "\t<tr><td>1075269   </td><td>1311441   </td><td> 5000     </td><td> 5000     </td><td> 5000     </td><td> 36 months</td><td> 7.90     </td><td>156.46    </td><td>A         </td><td>A4        </td><td>⋯         </td><td>NA        </td><td>NA        </td><td>NA        </td><td>NA        </td><td>NA        </td><td>NA        </td><td>NA        </td><td>NA        </td><td>NA        </td><td>NA        </td></tr>\n",
       "</tbody>\n",
       "</table>\n"
      ],
      "text/latex": [
       "\\begin{tabular}{r|llllllllllllllllllllllllllllllllllllllllllllllllllllllllllllllllllllllllll}\n",
       " id & member\\_id & loan\\_amnt & funded\\_amnt & funded\\_amnt\\_inv & term & int\\_rate & installment & grade & sub\\_grade & ⋯ & total\\_bal\\_il & il\\_util & open\\_rv\\_12m & open\\_rv\\_24m & max\\_bal\\_bc & all\\_util & total\\_rev\\_hi\\_lim & inq\\_fi & total\\_cu\\_tl & inq\\_last\\_12m\\\\\n",
       "\\hline\n",
       "\t 1077501    & 1296599    &  5000      &  5000      &  4975      &  36 months & 10.65      & 162.87     & B          & B2         & ⋯          & NA         & NA         & NA         & NA         & NA         & NA         & NA         & NA         & NA         & NA        \\\\\n",
       "\t 1077430    & 1314167    &  2500      &  2500      &  2500      &  60 months & 15.27      &  59.83     & C          & C4         & ⋯          & NA         & NA         & NA         & NA         & NA         & NA         & NA         & NA         & NA         & NA        \\\\\n",
       "\t 1077175    & 1313524    &  2400      &  2400      &  2400      &  36 months & 15.96      &  84.33     & C          & C5         & ⋯          & NA         & NA         & NA         & NA         & NA         & NA         & NA         & NA         & NA         & NA        \\\\\n",
       "\t 1076863    & 1277178    & 10000      & 10000      & 10000      &  36 months & 13.49      & 339.31     & C          & C1         & ⋯          & NA         & NA         & NA         & NA         & NA         & NA         & NA         & NA         & NA         & NA        \\\\\n",
       "\t 1075358    & 1311748    &  3000      &  3000      &  3000      &  60 months & 12.69      &  67.79     & B          & B5         & ⋯          & NA         & NA         & NA         & NA         & NA         & NA         & NA         & NA         & NA         & NA        \\\\\n",
       "\t 1075269    & 1311441    &  5000      &  5000      &  5000      &  36 months &  7.90      & 156.46     & A          & A4         & ⋯          & NA         & NA         & NA         & NA         & NA         & NA         & NA         & NA         & NA         & NA        \\\\\n",
       "\\end{tabular}\n"
      ],
      "text/markdown": [
       "\n",
       "id | member_id | loan_amnt | funded_amnt | funded_amnt_inv | term | int_rate | installment | grade | sub_grade | ⋯ | total_bal_il | il_util | open_rv_12m | open_rv_24m | max_bal_bc | all_util | total_rev_hi_lim | inq_fi | total_cu_tl | inq_last_12m | \n",
       "|---|---|---|---|---|---|\n",
       "| 1077501    | 1296599    |  5000      |  5000      |  4975      |  36 months | 10.65      | 162.87     | B          | B2         | ⋯          | NA         | NA         | NA         | NA         | NA         | NA         | NA         | NA         | NA         | NA         | \n",
       "| 1077430    | 1314167    |  2500      |  2500      |  2500      |  60 months | 15.27      |  59.83     | C          | C4         | ⋯          | NA         | NA         | NA         | NA         | NA         | NA         | NA         | NA         | NA         | NA         | \n",
       "| 1077175    | 1313524    |  2400      |  2400      |  2400      |  36 months | 15.96      |  84.33     | C          | C5         | ⋯          | NA         | NA         | NA         | NA         | NA         | NA         | NA         | NA         | NA         | NA         | \n",
       "| 1076863    | 1277178    | 10000      | 10000      | 10000      |  36 months | 13.49      | 339.31     | C          | C1         | ⋯          | NA         | NA         | NA         | NA         | NA         | NA         | NA         | NA         | NA         | NA         | \n",
       "| 1075358    | 1311748    |  3000      |  3000      |  3000      |  60 months | 12.69      |  67.79     | B          | B5         | ⋯          | NA         | NA         | NA         | NA         | NA         | NA         | NA         | NA         | NA         | NA         | \n",
       "| 1075269    | 1311441    |  5000      |  5000      |  5000      |  36 months |  7.90      | 156.46     | A          | A4         | ⋯          | NA         | NA         | NA         | NA         | NA         | NA         | NA         | NA         | NA         | NA         | \n",
       "\n",
       "\n"
      ],
      "text/plain": [
       "  id      member_id loan_amnt funded_amnt funded_amnt_inv term       int_rate\n",
       "1 1077501 1296599    5000      5000        4975            36 months 10.65   \n",
       "2 1077430 1314167    2500      2500        2500            60 months 15.27   \n",
       "3 1077175 1313524    2400      2400        2400            36 months 15.96   \n",
       "4 1076863 1277178   10000     10000       10000            36 months 13.49   \n",
       "5 1075358 1311748    3000      3000        3000            60 months 12.69   \n",
       "6 1075269 1311441    5000      5000        5000            36 months  7.90   \n",
       "  installment grade sub_grade ⋯ total_bal_il il_util open_rv_12m open_rv_24m\n",
       "1 162.87      B     B2        ⋯ NA           NA      NA          NA         \n",
       "2  59.83      C     C4        ⋯ NA           NA      NA          NA         \n",
       "3  84.33      C     C5        ⋯ NA           NA      NA          NA         \n",
       "4 339.31      C     C1        ⋯ NA           NA      NA          NA         \n",
       "5  67.79      B     B5        ⋯ NA           NA      NA          NA         \n",
       "6 156.46      A     A4        ⋯ NA           NA      NA          NA         \n",
       "  max_bal_bc all_util total_rev_hi_lim inq_fi total_cu_tl inq_last_12m\n",
       "1 NA         NA       NA               NA     NA          NA          \n",
       "2 NA         NA       NA               NA     NA          NA          \n",
       "3 NA         NA       NA               NA     NA          NA          \n",
       "4 NA         NA       NA               NA     NA          NA          \n",
       "5 NA         NA       NA               NA     NA          NA          \n",
       "6 NA         NA       NA               NA     NA          NA          "
      ]
     },
     "metadata": {},
     "output_type": "display_data"
    }
   ],
   "source": [
    "df <- read.csv(\"lending-club-loan-data/loan.csv\")\n",
    "head(df)"
   ]
  },
  {
   "cell_type": "code",
   "execution_count": 71,
   "metadata": {},
   "outputs": [
    {
     "data": {
      "text/html": [
       "<ol class=list-inline>\n",
       "\t<li>'id'</li>\n",
       "\t<li>'member_id'</li>\n",
       "\t<li>'loan_amnt'</li>\n",
       "\t<li>'funded_amnt'</li>\n",
       "\t<li>'funded_amnt_inv'</li>\n",
       "\t<li>'term'</li>\n",
       "\t<li>'int_rate'</li>\n",
       "\t<li>'installment'</li>\n",
       "\t<li>'grade'</li>\n",
       "\t<li>'sub_grade'</li>\n",
       "\t<li>'emp_title'</li>\n",
       "\t<li>'emp_length'</li>\n",
       "\t<li>'home_ownership'</li>\n",
       "\t<li>'annual_inc'</li>\n",
       "\t<li>'verification_status'</li>\n",
       "\t<li>'issue_d'</li>\n",
       "\t<li>'loan_status'</li>\n",
       "\t<li>'pymnt_plan'</li>\n",
       "\t<li>'url'</li>\n",
       "\t<li>'desc'</li>\n",
       "\t<li>'purpose'</li>\n",
       "\t<li>'title'</li>\n",
       "\t<li>'zip_code'</li>\n",
       "\t<li>'addr_state'</li>\n",
       "\t<li>'dti'</li>\n",
       "\t<li>'delinq_2yrs'</li>\n",
       "\t<li>'earliest_cr_line'</li>\n",
       "\t<li>'inq_last_6mths'</li>\n",
       "\t<li>'mths_since_last_delinq'</li>\n",
       "\t<li>'mths_since_last_record'</li>\n",
       "\t<li>'open_acc'</li>\n",
       "\t<li>'pub_rec'</li>\n",
       "\t<li>'revol_bal'</li>\n",
       "\t<li>'revol_util'</li>\n",
       "\t<li>'total_acc'</li>\n",
       "\t<li>'initial_list_status'</li>\n",
       "\t<li>'out_prncp'</li>\n",
       "\t<li>'out_prncp_inv'</li>\n",
       "\t<li>'total_pymnt'</li>\n",
       "\t<li>'total_pymnt_inv'</li>\n",
       "\t<li>'total_rec_prncp'</li>\n",
       "\t<li>'total_rec_int'</li>\n",
       "\t<li>'total_rec_late_fee'</li>\n",
       "\t<li>'recoveries'</li>\n",
       "\t<li>'collection_recovery_fee'</li>\n",
       "\t<li>'last_pymnt_d'</li>\n",
       "\t<li>'last_pymnt_amnt'</li>\n",
       "\t<li>'next_pymnt_d'</li>\n",
       "\t<li>'last_credit_pull_d'</li>\n",
       "\t<li>'collections_12_mths_ex_med'</li>\n",
       "\t<li>'mths_since_last_major_derog'</li>\n",
       "\t<li>'policy_code'</li>\n",
       "\t<li>'application_type'</li>\n",
       "\t<li>'annual_inc_joint'</li>\n",
       "\t<li>'dti_joint'</li>\n",
       "\t<li>'verification_status_joint'</li>\n",
       "\t<li>'acc_now_delinq'</li>\n",
       "\t<li>'tot_coll_amt'</li>\n",
       "\t<li>'tot_cur_bal'</li>\n",
       "\t<li>'open_acc_6m'</li>\n",
       "\t<li>'open_il_6m'</li>\n",
       "\t<li>'open_il_12m'</li>\n",
       "\t<li>'open_il_24m'</li>\n",
       "\t<li>'mths_since_rcnt_il'</li>\n",
       "\t<li>'total_bal_il'</li>\n",
       "\t<li>'il_util'</li>\n",
       "\t<li>'open_rv_12m'</li>\n",
       "\t<li>'open_rv_24m'</li>\n",
       "\t<li>'max_bal_bc'</li>\n",
       "\t<li>'all_util'</li>\n",
       "\t<li>'total_rev_hi_lim'</li>\n",
       "\t<li>'inq_fi'</li>\n",
       "\t<li>'total_cu_tl'</li>\n",
       "\t<li>'inq_last_12m'</li>\n",
       "</ol>\n"
      ],
      "text/latex": [
       "\\begin{enumerate*}\n",
       "\\item 'id'\n",
       "\\item 'member\\_id'\n",
       "\\item 'loan\\_amnt'\n",
       "\\item 'funded\\_amnt'\n",
       "\\item 'funded\\_amnt\\_inv'\n",
       "\\item 'term'\n",
       "\\item 'int\\_rate'\n",
       "\\item 'installment'\n",
       "\\item 'grade'\n",
       "\\item 'sub\\_grade'\n",
       "\\item 'emp\\_title'\n",
       "\\item 'emp\\_length'\n",
       "\\item 'home\\_ownership'\n",
       "\\item 'annual\\_inc'\n",
       "\\item 'verification\\_status'\n",
       "\\item 'issue\\_d'\n",
       "\\item 'loan\\_status'\n",
       "\\item 'pymnt\\_plan'\n",
       "\\item 'url'\n",
       "\\item 'desc'\n",
       "\\item 'purpose'\n",
       "\\item 'title'\n",
       "\\item 'zip\\_code'\n",
       "\\item 'addr\\_state'\n",
       "\\item 'dti'\n",
       "\\item 'delinq\\_2yrs'\n",
       "\\item 'earliest\\_cr\\_line'\n",
       "\\item 'inq\\_last\\_6mths'\n",
       "\\item 'mths\\_since\\_last\\_delinq'\n",
       "\\item 'mths\\_since\\_last\\_record'\n",
       "\\item 'open\\_acc'\n",
       "\\item 'pub\\_rec'\n",
       "\\item 'revol\\_bal'\n",
       "\\item 'revol\\_util'\n",
       "\\item 'total\\_acc'\n",
       "\\item 'initial\\_list\\_status'\n",
       "\\item 'out\\_prncp'\n",
       "\\item 'out\\_prncp\\_inv'\n",
       "\\item 'total\\_pymnt'\n",
       "\\item 'total\\_pymnt\\_inv'\n",
       "\\item 'total\\_rec\\_prncp'\n",
       "\\item 'total\\_rec\\_int'\n",
       "\\item 'total\\_rec\\_late\\_fee'\n",
       "\\item 'recoveries'\n",
       "\\item 'collection\\_recovery\\_fee'\n",
       "\\item 'last\\_pymnt\\_d'\n",
       "\\item 'last\\_pymnt\\_amnt'\n",
       "\\item 'next\\_pymnt\\_d'\n",
       "\\item 'last\\_credit\\_pull\\_d'\n",
       "\\item 'collections\\_12\\_mths\\_ex\\_med'\n",
       "\\item 'mths\\_since\\_last\\_major\\_derog'\n",
       "\\item 'policy\\_code'\n",
       "\\item 'application\\_type'\n",
       "\\item 'annual\\_inc\\_joint'\n",
       "\\item 'dti\\_joint'\n",
       "\\item 'verification\\_status\\_joint'\n",
       "\\item 'acc\\_now\\_delinq'\n",
       "\\item 'tot\\_coll\\_amt'\n",
       "\\item 'tot\\_cur\\_bal'\n",
       "\\item 'open\\_acc\\_6m'\n",
       "\\item 'open\\_il\\_6m'\n",
       "\\item 'open\\_il\\_12m'\n",
       "\\item 'open\\_il\\_24m'\n",
       "\\item 'mths\\_since\\_rcnt\\_il'\n",
       "\\item 'total\\_bal\\_il'\n",
       "\\item 'il\\_util'\n",
       "\\item 'open\\_rv\\_12m'\n",
       "\\item 'open\\_rv\\_24m'\n",
       "\\item 'max\\_bal\\_bc'\n",
       "\\item 'all\\_util'\n",
       "\\item 'total\\_rev\\_hi\\_lim'\n",
       "\\item 'inq\\_fi'\n",
       "\\item 'total\\_cu\\_tl'\n",
       "\\item 'inq\\_last\\_12m'\n",
       "\\end{enumerate*}\n"
      ],
      "text/markdown": [
       "1. 'id'\n",
       "2. 'member_id'\n",
       "3. 'loan_amnt'\n",
       "4. 'funded_amnt'\n",
       "5. 'funded_amnt_inv'\n",
       "6. 'term'\n",
       "7. 'int_rate'\n",
       "8. 'installment'\n",
       "9. 'grade'\n",
       "10. 'sub_grade'\n",
       "11. 'emp_title'\n",
       "12. 'emp_length'\n",
       "13. 'home_ownership'\n",
       "14. 'annual_inc'\n",
       "15. 'verification_status'\n",
       "16. 'issue_d'\n",
       "17. 'loan_status'\n",
       "18. 'pymnt_plan'\n",
       "19. 'url'\n",
       "20. 'desc'\n",
       "21. 'purpose'\n",
       "22. 'title'\n",
       "23. 'zip_code'\n",
       "24. 'addr_state'\n",
       "25. 'dti'\n",
       "26. 'delinq_2yrs'\n",
       "27. 'earliest_cr_line'\n",
       "28. 'inq_last_6mths'\n",
       "29. 'mths_since_last_delinq'\n",
       "30. 'mths_since_last_record'\n",
       "31. 'open_acc'\n",
       "32. 'pub_rec'\n",
       "33. 'revol_bal'\n",
       "34. 'revol_util'\n",
       "35. 'total_acc'\n",
       "36. 'initial_list_status'\n",
       "37. 'out_prncp'\n",
       "38. 'out_prncp_inv'\n",
       "39. 'total_pymnt'\n",
       "40. 'total_pymnt_inv'\n",
       "41. 'total_rec_prncp'\n",
       "42. 'total_rec_int'\n",
       "43. 'total_rec_late_fee'\n",
       "44. 'recoveries'\n",
       "45. 'collection_recovery_fee'\n",
       "46. 'last_pymnt_d'\n",
       "47. 'last_pymnt_amnt'\n",
       "48. 'next_pymnt_d'\n",
       "49. 'last_credit_pull_d'\n",
       "50. 'collections_12_mths_ex_med'\n",
       "51. 'mths_since_last_major_derog'\n",
       "52. 'policy_code'\n",
       "53. 'application_type'\n",
       "54. 'annual_inc_joint'\n",
       "55. 'dti_joint'\n",
       "56. 'verification_status_joint'\n",
       "57. 'acc_now_delinq'\n",
       "58. 'tot_coll_amt'\n",
       "59. 'tot_cur_bal'\n",
       "60. 'open_acc_6m'\n",
       "61. 'open_il_6m'\n",
       "62. 'open_il_12m'\n",
       "63. 'open_il_24m'\n",
       "64. 'mths_since_rcnt_il'\n",
       "65. 'total_bal_il'\n",
       "66. 'il_util'\n",
       "67. 'open_rv_12m'\n",
       "68. 'open_rv_24m'\n",
       "69. 'max_bal_bc'\n",
       "70. 'all_util'\n",
       "71. 'total_rev_hi_lim'\n",
       "72. 'inq_fi'\n",
       "73. 'total_cu_tl'\n",
       "74. 'inq_last_12m'\n",
       "\n",
       "\n"
      ],
      "text/plain": [
       " [1] \"id\"                          \"member_id\"                  \n",
       " [3] \"loan_amnt\"                   \"funded_amnt\"                \n",
       " [5] \"funded_amnt_inv\"             \"term\"                       \n",
       " [7] \"int_rate\"                    \"installment\"                \n",
       " [9] \"grade\"                       \"sub_grade\"                  \n",
       "[11] \"emp_title\"                   \"emp_length\"                 \n",
       "[13] \"home_ownership\"              \"annual_inc\"                 \n",
       "[15] \"verification_status\"         \"issue_d\"                    \n",
       "[17] \"loan_status\"                 \"pymnt_plan\"                 \n",
       "[19] \"url\"                         \"desc\"                       \n",
       "[21] \"purpose\"                     \"title\"                      \n",
       "[23] \"zip_code\"                    \"addr_state\"                 \n",
       "[25] \"dti\"                         \"delinq_2yrs\"                \n",
       "[27] \"earliest_cr_line\"            \"inq_last_6mths\"             \n",
       "[29] \"mths_since_last_delinq\"      \"mths_since_last_record\"     \n",
       "[31] \"open_acc\"                    \"pub_rec\"                    \n",
       "[33] \"revol_bal\"                   \"revol_util\"                 \n",
       "[35] \"total_acc\"                   \"initial_list_status\"        \n",
       "[37] \"out_prncp\"                   \"out_prncp_inv\"              \n",
       "[39] \"total_pymnt\"                 \"total_pymnt_inv\"            \n",
       "[41] \"total_rec_prncp\"             \"total_rec_int\"              \n",
       "[43] \"total_rec_late_fee\"          \"recoveries\"                 \n",
       "[45] \"collection_recovery_fee\"     \"last_pymnt_d\"               \n",
       "[47] \"last_pymnt_amnt\"             \"next_pymnt_d\"               \n",
       "[49] \"last_credit_pull_d\"          \"collections_12_mths_ex_med\" \n",
       "[51] \"mths_since_last_major_derog\" \"policy_code\"                \n",
       "[53] \"application_type\"            \"annual_inc_joint\"           \n",
       "[55] \"dti_joint\"                   \"verification_status_joint\"  \n",
       "[57] \"acc_now_delinq\"              \"tot_coll_amt\"               \n",
       "[59] \"tot_cur_bal\"                 \"open_acc_6m\"                \n",
       "[61] \"open_il_6m\"                  \"open_il_12m\"                \n",
       "[63] \"open_il_24m\"                 \"mths_since_rcnt_il\"         \n",
       "[65] \"total_bal_il\"                \"il_util\"                    \n",
       "[67] \"open_rv_12m\"                 \"open_rv_24m\"                \n",
       "[69] \"max_bal_bc\"                  \"all_util\"                   \n",
       "[71] \"total_rev_hi_lim\"            \"inq_fi\"                     \n",
       "[73] \"total_cu_tl\"                 \"inq_last_12m\"               "
      ]
     },
     "metadata": {},
     "output_type": "display_data"
    }
   ],
   "source": [
    "bcolnames(df)"
   ]
  },
  {
   "cell_type": "code",
   "execution_count": null,
   "metadata": {},
   "outputs": [],
   "source": []
  },
  {
   "cell_type": "code",
   "execution_count": 3,
   "metadata": {},
   "outputs": [
    {
     "data": {
      "text/plain": [
       "     id          member_id       loan_amnt       funded_amnt    \n",
       " Mode :logical   Mode :logical   Mode :logical   Mode :logical  \n",
       " FALSE:887379    FALSE:887379    FALSE:887379    FALSE:887379   \n",
       "                                                                \n",
       " funded_amnt_inv    term          int_rate       installment    \n",
       " Mode :logical   Mode :logical   Mode :logical   Mode :logical  \n",
       " FALSE:887379    FALSE:887379    FALSE:887379    FALSE:887379   \n",
       "                                                                \n",
       "   grade         sub_grade       emp_title       emp_length     \n",
       " Mode :logical   Mode :logical   Mode :logical   Mode :logical  \n",
       " FALSE:887379    FALSE:887379    FALSE:887379    FALSE:887379   \n",
       "                                                                \n",
       " home_ownership  annual_inc      verification_status  issue_d       \n",
       " Mode :logical   Mode :logical   Mode :logical       Mode :logical  \n",
       " FALSE:887379    FALSE:887375    FALSE:887379        FALSE:887379   \n",
       "                 TRUE :4                                            \n",
       " loan_status     pymnt_plan         url             desc        \n",
       " Mode :logical   Mode :logical   Mode :logical   Mode :logical  \n",
       " FALSE:887379    FALSE:887379    FALSE:887379    FALSE:887379   \n",
       "                                                                \n",
       "  purpose          title          zip_code       addr_state     \n",
       " Mode :logical   Mode :logical   Mode :logical   Mode :logical  \n",
       " FALSE:887379    FALSE:887379    FALSE:887379    FALSE:887379   \n",
       "                                                                \n",
       "    dti          delinq_2yrs     earliest_cr_line inq_last_6mths \n",
       " Mode :logical   Mode :logical   Mode :logical    Mode :logical  \n",
       " FALSE:887379    FALSE:887350    FALSE:887379     FALSE:887350   \n",
       "                 TRUE :29                         TRUE :29       \n",
       " mths_since_last_delinq mths_since_last_record  open_acc        pub_rec       \n",
       " Mode :logical          Mode :logical          Mode :logical   Mode :logical  \n",
       " FALSE:433067           FALSE:137053           FALSE:887350    FALSE:887350   \n",
       " TRUE :454312           TRUE :750326           TRUE :29        TRUE :29       \n",
       " revol_bal       revol_util      total_acc       initial_list_status\n",
       " Mode :logical   Mode :logical   Mode :logical   Mode :logical      \n",
       " FALSE:887379    FALSE:886877    FALSE:887350    FALSE:887379       \n",
       "                 TRUE :502       TRUE :29                           \n",
       " out_prncp       out_prncp_inv   total_pymnt     total_pymnt_inv\n",
       " Mode :logical   Mode :logical   Mode :logical   Mode :logical  \n",
       " FALSE:887379    FALSE:887379    FALSE:887379    FALSE:887379   \n",
       "                                                                \n",
       " total_rec_prncp total_rec_int   total_rec_late_fee recoveries     \n",
       " Mode :logical   Mode :logical   Mode :logical      Mode :logical  \n",
       " FALSE:887379    FALSE:887379    FALSE:887379       FALSE:887379   \n",
       "                                                                   \n",
       " collection_recovery_fee last_pymnt_d    last_pymnt_amnt next_pymnt_d   \n",
       " Mode :logical           Mode :logical   Mode :logical   Mode :logical  \n",
       " FALSE:887379            FALSE:887379    FALSE:887379    FALSE:887379   \n",
       "                                                                        \n",
       " last_credit_pull_d collections_12_mths_ex_med mths_since_last_major_derog\n",
       " Mode :logical      Mode :logical              Mode :logical              \n",
       " FALSE:887379       FALSE:887234               FALSE:221703               \n",
       "                    TRUE :145                  TRUE :665676               \n",
       " policy_code     application_type annual_inc_joint dti_joint      \n",
       " Mode :logical   Mode :logical    Mode :logical    Mode :logical  \n",
       " FALSE:887379    FALSE:887379     FALSE:511        FALSE:509      \n",
       "                                  TRUE :886868     TRUE :886870   \n",
       " verification_status_joint acc_now_delinq  tot_coll_amt    tot_cur_bal    \n",
       " Mode :logical             Mode :logical   Mode :logical   Mode :logical  \n",
       " FALSE:887379              FALSE:887350    FALSE:817103    FALSE:817103   \n",
       "                           TRUE :29        TRUE :70276     TRUE :70276    \n",
       " open_acc_6m     open_il_6m      open_il_12m     open_il_24m    \n",
       " Mode :logical   Mode :logical   Mode :logical   Mode :logical  \n",
       " FALSE:21372     FALSE:21372     FALSE:21372     FALSE:21372    \n",
       " TRUE :866007    TRUE :866007    TRUE :866007    TRUE :866007   \n",
       " mths_since_rcnt_il total_bal_il     il_util        open_rv_12m    \n",
       " Mode :logical      Mode :logical   Mode :logical   Mode :logical  \n",
       " FALSE:20810        FALSE:21372     FALSE:18617     FALSE:21372    \n",
       " TRUE :866569       TRUE :866007    TRUE :868762    TRUE :866007   \n",
       " open_rv_24m     max_bal_bc       all_util       total_rev_hi_lim\n",
       " Mode :logical   Mode :logical   Mode :logical   Mode :logical   \n",
       " FALSE:21372     FALSE:21372     FALSE:21372     FALSE:817103    \n",
       " TRUE :866007    TRUE :866007    TRUE :866007    TRUE :70276     \n",
       "   inq_fi        total_cu_tl     inq_last_12m   \n",
       " Mode :logical   Mode :logical   Mode :logical  \n",
       " FALSE:21372     FALSE:21372     FALSE:21372    \n",
       " TRUE :866007    TRUE :866007    TRUE :866007   "
      ]
     },
     "metadata": {},
     "output_type": "display_data"
    }
   ],
   "source": [
    "summary(is.na(df))"
   ]
  },
  {
   "cell_type": "code",
   "execution_count": 4,
   "metadata": {},
   "outputs": [],
   "source": [
    "too_many_na <- function(x) sum(is.na(x)) < 100000"
   ]
  },
  {
   "cell_type": "code",
   "execution_count": 5,
   "metadata": {},
   "outputs": [
    {
     "data": {
      "text/html": [
       "<table>\n",
       "<thead><tr><th scope=col>id</th><th scope=col>member_id</th><th scope=col>loan_amnt</th><th scope=col>funded_amnt</th><th scope=col>funded_amnt_inv</th><th scope=col>term</th><th scope=col>int_rate</th><th scope=col>installment</th><th scope=col>grade</th><th scope=col>sub_grade</th><th scope=col>⋯</th><th scope=col>next_pymnt_d</th><th scope=col>last_credit_pull_d</th><th scope=col>collections_12_mths_ex_med</th><th scope=col>policy_code</th><th scope=col>application_type</th><th scope=col>verification_status_joint</th><th scope=col>acc_now_delinq</th><th scope=col>tot_coll_amt</th><th scope=col>tot_cur_bal</th><th scope=col>total_rev_hi_lim</th></tr></thead>\n",
       "<tbody>\n",
       "\t<tr><td>1077501   </td><td>1296599   </td><td> 5000     </td><td> 5000     </td><td> 4975     </td><td> 36 months</td><td>10.65     </td><td>162.87    </td><td>B         </td><td>B2        </td><td>⋯         </td><td>          </td><td>Jan-2016  </td><td>0         </td><td>1         </td><td>INDIVIDUAL</td><td>          </td><td>0         </td><td>NA        </td><td>NA        </td><td>NA        </td></tr>\n",
       "\t<tr><td>1077430   </td><td>1314167   </td><td> 2500     </td><td> 2500     </td><td> 2500     </td><td> 60 months</td><td>15.27     </td><td> 59.83    </td><td>C         </td><td>C4        </td><td>⋯         </td><td>          </td><td>Sep-2013  </td><td>0         </td><td>1         </td><td>INDIVIDUAL</td><td>          </td><td>0         </td><td>NA        </td><td>NA        </td><td>NA        </td></tr>\n",
       "\t<tr><td>1077175   </td><td>1313524   </td><td> 2400     </td><td> 2400     </td><td> 2400     </td><td> 36 months</td><td>15.96     </td><td> 84.33    </td><td>C         </td><td>C5        </td><td>⋯         </td><td>          </td><td>Jan-2016  </td><td>0         </td><td>1         </td><td>INDIVIDUAL</td><td>          </td><td>0         </td><td>NA        </td><td>NA        </td><td>NA        </td></tr>\n",
       "\t<tr><td>1076863   </td><td>1277178   </td><td>10000     </td><td>10000     </td><td>10000     </td><td> 36 months</td><td>13.49     </td><td>339.31    </td><td>C         </td><td>C1        </td><td>⋯         </td><td>          </td><td>Jan-2015  </td><td>0         </td><td>1         </td><td>INDIVIDUAL</td><td>          </td><td>0         </td><td>NA        </td><td>NA        </td><td>NA        </td></tr>\n",
       "\t<tr><td>1075358   </td><td>1311748   </td><td> 3000     </td><td> 3000     </td><td> 3000     </td><td> 60 months</td><td>12.69     </td><td> 67.79    </td><td>B         </td><td>B5        </td><td>⋯         </td><td>Feb-2016  </td><td>Jan-2016  </td><td>0         </td><td>1         </td><td>INDIVIDUAL</td><td>          </td><td>0         </td><td>NA        </td><td>NA        </td><td>NA        </td></tr>\n",
       "\t<tr><td>1075269   </td><td>1311441   </td><td> 5000     </td><td> 5000     </td><td> 5000     </td><td> 36 months</td><td> 7.90     </td><td>156.46    </td><td>A         </td><td>A4        </td><td>⋯         </td><td>          </td><td>Sep-2015  </td><td>0         </td><td>1         </td><td>INDIVIDUAL</td><td>          </td><td>0         </td><td>NA        </td><td>NA        </td><td>NA        </td></tr>\n",
       "</tbody>\n",
       "</table>\n"
      ],
      "text/latex": [
       "\\begin{tabular}{r|lllllllllllllllllllllllllllllllllllllllllllllllllllllll}\n",
       " id & member\\_id & loan\\_amnt & funded\\_amnt & funded\\_amnt\\_inv & term & int\\_rate & installment & grade & sub\\_grade & ⋯ & next\\_pymnt\\_d & last\\_credit\\_pull\\_d & collections\\_12\\_mths\\_ex\\_med & policy\\_code & application\\_type & verification\\_status\\_joint & acc\\_now\\_delinq & tot\\_coll\\_amt & tot\\_cur\\_bal & total\\_rev\\_hi\\_lim\\\\\n",
       "\\hline\n",
       "\t 1077501    & 1296599    &  5000      &  5000      &  4975      &  36 months & 10.65      & 162.87     & B          & B2         & ⋯          &            & Jan-2016   & 0          & 1          & INDIVIDUAL &            & 0          & NA         & NA         & NA        \\\\\n",
       "\t 1077430    & 1314167    &  2500      &  2500      &  2500      &  60 months & 15.27      &  59.83     & C          & C4         & ⋯          &            & Sep-2013   & 0          & 1          & INDIVIDUAL &            & 0          & NA         & NA         & NA        \\\\\n",
       "\t 1077175    & 1313524    &  2400      &  2400      &  2400      &  36 months & 15.96      &  84.33     & C          & C5         & ⋯          &            & Jan-2016   & 0          & 1          & INDIVIDUAL &            & 0          & NA         & NA         & NA        \\\\\n",
       "\t 1076863    & 1277178    & 10000      & 10000      & 10000      &  36 months & 13.49      & 339.31     & C          & C1         & ⋯          &            & Jan-2015   & 0          & 1          & INDIVIDUAL &            & 0          & NA         & NA         & NA        \\\\\n",
       "\t 1075358    & 1311748    &  3000      &  3000      &  3000      &  60 months & 12.69      &  67.79     & B          & B5         & ⋯          & Feb-2016   & Jan-2016   & 0          & 1          & INDIVIDUAL &            & 0          & NA         & NA         & NA        \\\\\n",
       "\t 1075269    & 1311441    &  5000      &  5000      &  5000      &  36 months &  7.90      & 156.46     & A          & A4         & ⋯          &            & Sep-2015   & 0          & 1          & INDIVIDUAL &            & 0          & NA         & NA         & NA        \\\\\n",
       "\\end{tabular}\n"
      ],
      "text/markdown": [
       "\n",
       "id | member_id | loan_amnt | funded_amnt | funded_amnt_inv | term | int_rate | installment | grade | sub_grade | ⋯ | next_pymnt_d | last_credit_pull_d | collections_12_mths_ex_med | policy_code | application_type | verification_status_joint | acc_now_delinq | tot_coll_amt | tot_cur_bal | total_rev_hi_lim | \n",
       "|---|---|---|---|---|---|\n",
       "| 1077501    | 1296599    |  5000      |  5000      |  4975      |  36 months | 10.65      | 162.87     | B          | B2         | ⋯          |            | Jan-2016   | 0          | 1          | INDIVIDUAL |            | 0          | NA         | NA         | NA         | \n",
       "| 1077430    | 1314167    |  2500      |  2500      |  2500      |  60 months | 15.27      |  59.83     | C          | C4         | ⋯          |            | Sep-2013   | 0          | 1          | INDIVIDUAL |            | 0          | NA         | NA         | NA         | \n",
       "| 1077175    | 1313524    |  2400      |  2400      |  2400      |  36 months | 15.96      |  84.33     | C          | C5         | ⋯          |            | Jan-2016   | 0          | 1          | INDIVIDUAL |            | 0          | NA         | NA         | NA         | \n",
       "| 1076863    | 1277178    | 10000      | 10000      | 10000      |  36 months | 13.49      | 339.31     | C          | C1         | ⋯          |            | Jan-2015   | 0          | 1          | INDIVIDUAL |            | 0          | NA         | NA         | NA         | \n",
       "| 1075358    | 1311748    |  3000      |  3000      |  3000      |  60 months | 12.69      |  67.79     | B          | B5         | ⋯          | Feb-2016   | Jan-2016   | 0          | 1          | INDIVIDUAL |            | 0          | NA         | NA         | NA         | \n",
       "| 1075269    | 1311441    |  5000      |  5000      |  5000      |  36 months |  7.90      | 156.46     | A          | A4         | ⋯          |            | Sep-2015   | 0          | 1          | INDIVIDUAL |            | 0          | NA         | NA         | NA         | \n",
       "\n",
       "\n"
      ],
      "text/plain": [
       "  id      member_id loan_amnt funded_amnt funded_amnt_inv term       int_rate\n",
       "1 1077501 1296599    5000      5000        4975            36 months 10.65   \n",
       "2 1077430 1314167    2500      2500        2500            60 months 15.27   \n",
       "3 1077175 1313524    2400      2400        2400            36 months 15.96   \n",
       "4 1076863 1277178   10000     10000       10000            36 months 13.49   \n",
       "5 1075358 1311748    3000      3000        3000            60 months 12.69   \n",
       "6 1075269 1311441    5000      5000        5000            36 months  7.90   \n",
       "  installment grade sub_grade ⋯ next_pymnt_d last_credit_pull_d\n",
       "1 162.87      B     B2        ⋯              Jan-2016          \n",
       "2  59.83      C     C4        ⋯              Sep-2013          \n",
       "3  84.33      C     C5        ⋯              Jan-2016          \n",
       "4 339.31      C     C1        ⋯              Jan-2015          \n",
       "5  67.79      B     B5        ⋯ Feb-2016     Jan-2016          \n",
       "6 156.46      A     A4        ⋯              Sep-2015          \n",
       "  collections_12_mths_ex_med policy_code application_type\n",
       "1 0                          1           INDIVIDUAL      \n",
       "2 0                          1           INDIVIDUAL      \n",
       "3 0                          1           INDIVIDUAL      \n",
       "4 0                          1           INDIVIDUAL      \n",
       "5 0                          1           INDIVIDUAL      \n",
       "6 0                          1           INDIVIDUAL      \n",
       "  verification_status_joint acc_now_delinq tot_coll_amt tot_cur_bal\n",
       "1                           0              NA           NA         \n",
       "2                           0              NA           NA         \n",
       "3                           0              NA           NA         \n",
       "4                           0              NA           NA         \n",
       "5                           0              NA           NA         \n",
       "6                           0              NA           NA         \n",
       "  total_rev_hi_lim\n",
       "1 NA              \n",
       "2 NA              \n",
       "3 NA              \n",
       "4 NA              \n",
       "5 NA              \n",
       "6 NA              "
      ]
     },
     "metadata": {},
     "output_type": "display_data"
    }
   ],
   "source": [
    "df2 <- df %>% select_if(too_many_na)\n",
    "head(df2)"
   ]
  },
  {
   "cell_type": "code",
   "execution_count": 6,
   "metadata": {},
   "outputs": [
    {
     "data": {
      "text/plain": [
       "     id          member_id       loan_amnt       funded_amnt    \n",
       " Mode :logical   Mode :logical   Mode :logical   Mode :logical  \n",
       " FALSE:887379    FALSE:887379    FALSE:887379    FALSE:887379   \n",
       "                                                                \n",
       " funded_amnt_inv    term          int_rate       installment    \n",
       " Mode :logical   Mode :logical   Mode :logical   Mode :logical  \n",
       " FALSE:887379    FALSE:887379    FALSE:887379    FALSE:887379   \n",
       "                                                                \n",
       "   grade         sub_grade       emp_title       emp_length     \n",
       " Mode :logical   Mode :logical   Mode :logical   Mode :logical  \n",
       " FALSE:887379    FALSE:887379    FALSE:887379    FALSE:887379   \n",
       "                                                                \n",
       " home_ownership  annual_inc      verification_status  issue_d       \n",
       " Mode :logical   Mode :logical   Mode :logical       Mode :logical  \n",
       " FALSE:887379    FALSE:887375    FALSE:887379        FALSE:887379   \n",
       "                 TRUE :4                                            \n",
       " loan_status     pymnt_plan         url             desc        \n",
       " Mode :logical   Mode :logical   Mode :logical   Mode :logical  \n",
       " FALSE:887379    FALSE:887379    FALSE:887379    FALSE:887379   \n",
       "                                                                \n",
       "  purpose          title          zip_code       addr_state     \n",
       " Mode :logical   Mode :logical   Mode :logical   Mode :logical  \n",
       " FALSE:887379    FALSE:887379    FALSE:887379    FALSE:887379   \n",
       "                                                                \n",
       "    dti          delinq_2yrs     earliest_cr_line inq_last_6mths \n",
       " Mode :logical   Mode :logical   Mode :logical    Mode :logical  \n",
       " FALSE:887379    FALSE:887350    FALSE:887379     FALSE:887350   \n",
       "                 TRUE :29                         TRUE :29       \n",
       "  open_acc        pub_rec        revol_bal       revol_util     \n",
       " Mode :logical   Mode :logical   Mode :logical   Mode :logical  \n",
       " FALSE:887350    FALSE:887350    FALSE:887379    FALSE:886877   \n",
       " TRUE :29        TRUE :29                        TRUE :502      \n",
       " total_acc       initial_list_status out_prncp       out_prncp_inv  \n",
       " Mode :logical   Mode :logical       Mode :logical   Mode :logical  \n",
       " FALSE:887350    FALSE:887379        FALSE:887379    FALSE:887379   \n",
       " TRUE :29                                                           \n",
       " total_pymnt     total_pymnt_inv total_rec_prncp total_rec_int  \n",
       " Mode :logical   Mode :logical   Mode :logical   Mode :logical  \n",
       " FALSE:887379    FALSE:887379    FALSE:887379    FALSE:887379   \n",
       "                                                                \n",
       " total_rec_late_fee recoveries      collection_recovery_fee last_pymnt_d   \n",
       " Mode :logical      Mode :logical   Mode :logical           Mode :logical  \n",
       " FALSE:887379       FALSE:887379    FALSE:887379            FALSE:887379   \n",
       "                                                                           \n",
       " last_pymnt_amnt next_pymnt_d    last_credit_pull_d collections_12_mths_ex_med\n",
       " Mode :logical   Mode :logical   Mode :logical      Mode :logical             \n",
       " FALSE:887379    FALSE:887379    FALSE:887379       FALSE:887234              \n",
       "                                                    TRUE :145                 \n",
       " policy_code     application_type verification_status_joint acc_now_delinq \n",
       " Mode :logical   Mode :logical    Mode :logical             Mode :logical  \n",
       " FALSE:887379    FALSE:887379     FALSE:887379              FALSE:887350   \n",
       "                                                            TRUE :29       \n",
       " tot_coll_amt    tot_cur_bal     total_rev_hi_lim\n",
       " Mode :logical   Mode :logical   Mode :logical   \n",
       " FALSE:817103    FALSE:817103    FALSE:817103    \n",
       " TRUE :70276     TRUE :70276     TRUE :70276     "
      ]
     },
     "metadata": {},
     "output_type": "display_data"
    }
   ],
   "source": [
    "summary(is.na(df2))"
   ]
  },
  {
   "cell_type": "code",
   "execution_count": 7,
   "metadata": {},
   "outputs": [
    {
     "data": {
      "text/plain": [
       "     id          member_id       loan_amnt       funded_amnt    \n",
       " Mode :logical   Mode :logical   Mode :logical   Mode :logical  \n",
       " FALSE:816722    FALSE:816722    FALSE:816722    FALSE:816722   \n",
       " funded_amnt_inv    term          int_rate       installment    \n",
       " Mode :logical   Mode :logical   Mode :logical   Mode :logical  \n",
       " FALSE:816722    FALSE:816722    FALSE:816722    FALSE:816722   \n",
       "   grade         sub_grade       emp_title       emp_length     \n",
       " Mode :logical   Mode :logical   Mode :logical   Mode :logical  \n",
       " FALSE:816722    FALSE:816722    FALSE:816722    FALSE:816722   \n",
       " home_ownership  annual_inc      verification_status  issue_d       \n",
       " Mode :logical   Mode :logical   Mode :logical       Mode :logical  \n",
       " FALSE:816722    FALSE:816722    FALSE:816722        FALSE:816722   \n",
       " loan_status     pymnt_plan         url             desc        \n",
       " Mode :logical   Mode :logical   Mode :logical   Mode :logical  \n",
       " FALSE:816722    FALSE:816722    FALSE:816722    FALSE:816722   \n",
       "  purpose          title          zip_code       addr_state     \n",
       " Mode :logical   Mode :logical   Mode :logical   Mode :logical  \n",
       " FALSE:816722    FALSE:816722    FALSE:816722    FALSE:816722   \n",
       "    dti          delinq_2yrs     earliest_cr_line inq_last_6mths \n",
       " Mode :logical   Mode :logical   Mode :logical    Mode :logical  \n",
       " FALSE:816722    FALSE:816722    FALSE:816722     FALSE:816722   \n",
       "  open_acc        pub_rec        revol_bal       revol_util     \n",
       " Mode :logical   Mode :logical   Mode :logical   Mode :logical  \n",
       " FALSE:816722    FALSE:816722    FALSE:816722    FALSE:816722   \n",
       " total_acc       initial_list_status out_prncp       out_prncp_inv  \n",
       " Mode :logical   Mode :logical       Mode :logical   Mode :logical  \n",
       " FALSE:816722    FALSE:816722        FALSE:816722    FALSE:816722   \n",
       " total_pymnt     total_pymnt_inv total_rec_prncp total_rec_int  \n",
       " Mode :logical   Mode :logical   Mode :logical   Mode :logical  \n",
       " FALSE:816722    FALSE:816722    FALSE:816722    FALSE:816722   \n",
       " total_rec_late_fee recoveries      collection_recovery_fee last_pymnt_d   \n",
       " Mode :logical      Mode :logical   Mode :logical           Mode :logical  \n",
       " FALSE:816722       FALSE:816722    FALSE:816722            FALSE:816722   \n",
       " last_pymnt_amnt next_pymnt_d    last_credit_pull_d collections_12_mths_ex_med\n",
       " Mode :logical   Mode :logical   Mode :logical      Mode :logical             \n",
       " FALSE:816722    FALSE:816722    FALSE:816722       FALSE:816722              \n",
       " policy_code     application_type verification_status_joint acc_now_delinq \n",
       " Mode :logical   Mode :logical    Mode :logical             Mode :logical  \n",
       " FALSE:816722    FALSE:816722     FALSE:816722              FALSE:816722   \n",
       " tot_coll_amt    tot_cur_bal     total_rev_hi_lim\n",
       " Mode :logical   Mode :logical   Mode :logical   \n",
       " FALSE:816722    FALSE:816722    FALSE:816722    "
      ]
     },
     "metadata": {},
     "output_type": "display_data"
    }
   ],
   "source": [
    "df2 <- df2 %>% drop_na()\n",
    "summary(is.na(df2))"
   ]
  },
  {
   "cell_type": "code",
   "execution_count": 8,
   "metadata": {},
   "outputs": [
    {
     "data": {
      "text/html": [
       "0.919799769884119"
      ],
      "text/latex": [
       "0.919799769884119"
      ],
      "text/markdown": [
       "0.919799769884119"
      ],
      "text/plain": [
       "[1] 0.9197998"
      ]
     },
     "metadata": {},
     "output_type": "display_data"
    }
   ],
   "source": [
    "df2 <- df2 %>% filter(application_type == 'INDIVIDUAL')\n",
    "nrow(df2)/nrow(df)"
   ]
  },
  {
   "cell_type": "code",
   "execution_count": 9,
   "metadata": {},
   "outputs": [
    {
     "data": {
      "text/html": [
       "<ol class=list-inline>\n",
       "\t<li>'id'</li>\n",
       "\t<li>'member_id'</li>\n",
       "\t<li>'loan_amnt'</li>\n",
       "\t<li>'funded_amnt'</li>\n",
       "\t<li>'funded_amnt_inv'</li>\n",
       "\t<li>'term'</li>\n",
       "\t<li>'int_rate'</li>\n",
       "\t<li>'installment'</li>\n",
       "\t<li>'grade'</li>\n",
       "\t<li>'sub_grade'</li>\n",
       "\t<li>'emp_title'</li>\n",
       "\t<li>'emp_length'</li>\n",
       "\t<li>'home_ownership'</li>\n",
       "\t<li>'annual_inc'</li>\n",
       "\t<li>'verification_status'</li>\n",
       "\t<li>'issue_d'</li>\n",
       "\t<li>'loan_status'</li>\n",
       "\t<li>'pymnt_plan'</li>\n",
       "\t<li>'url'</li>\n",
       "\t<li>'desc'</li>\n",
       "\t<li>'purpose'</li>\n",
       "\t<li>'title'</li>\n",
       "\t<li>'zip_code'</li>\n",
       "\t<li>'addr_state'</li>\n",
       "\t<li>'dti'</li>\n",
       "\t<li>'delinq_2yrs'</li>\n",
       "\t<li>'earliest_cr_line'</li>\n",
       "\t<li>'inq_last_6mths'</li>\n",
       "\t<li>'open_acc'</li>\n",
       "\t<li>'pub_rec'</li>\n",
       "\t<li>'revol_bal'</li>\n",
       "\t<li>'revol_util'</li>\n",
       "\t<li>'total_acc'</li>\n",
       "\t<li>'initial_list_status'</li>\n",
       "\t<li>'out_prncp'</li>\n",
       "\t<li>'out_prncp_inv'</li>\n",
       "\t<li>'total_pymnt'</li>\n",
       "\t<li>'total_pymnt_inv'</li>\n",
       "\t<li>'total_rec_prncp'</li>\n",
       "\t<li>'total_rec_int'</li>\n",
       "\t<li>'total_rec_late_fee'</li>\n",
       "\t<li>'recoveries'</li>\n",
       "\t<li>'collection_recovery_fee'</li>\n",
       "\t<li>'last_pymnt_d'</li>\n",
       "\t<li>'last_pymnt_amnt'</li>\n",
       "\t<li>'next_pymnt_d'</li>\n",
       "\t<li>'last_credit_pull_d'</li>\n",
       "\t<li>'collections_12_mths_ex_med'</li>\n",
       "\t<li>'policy_code'</li>\n",
       "\t<li>'application_type'</li>\n",
       "\t<li>'verification_status_joint'</li>\n",
       "\t<li>'acc_now_delinq'</li>\n",
       "\t<li>'tot_coll_amt'</li>\n",
       "\t<li>'tot_cur_bal'</li>\n",
       "\t<li>'total_rev_hi_lim'</li>\n",
       "</ol>\n"
      ],
      "text/latex": [
       "\\begin{enumerate*}\n",
       "\\item 'id'\n",
       "\\item 'member\\_id'\n",
       "\\item 'loan\\_amnt'\n",
       "\\item 'funded\\_amnt'\n",
       "\\item 'funded\\_amnt\\_inv'\n",
       "\\item 'term'\n",
       "\\item 'int\\_rate'\n",
       "\\item 'installment'\n",
       "\\item 'grade'\n",
       "\\item 'sub\\_grade'\n",
       "\\item 'emp\\_title'\n",
       "\\item 'emp\\_length'\n",
       "\\item 'home\\_ownership'\n",
       "\\item 'annual\\_inc'\n",
       "\\item 'verification\\_status'\n",
       "\\item 'issue\\_d'\n",
       "\\item 'loan\\_status'\n",
       "\\item 'pymnt\\_plan'\n",
       "\\item 'url'\n",
       "\\item 'desc'\n",
       "\\item 'purpose'\n",
       "\\item 'title'\n",
       "\\item 'zip\\_code'\n",
       "\\item 'addr\\_state'\n",
       "\\item 'dti'\n",
       "\\item 'delinq\\_2yrs'\n",
       "\\item 'earliest\\_cr\\_line'\n",
       "\\item 'inq\\_last\\_6mths'\n",
       "\\item 'open\\_acc'\n",
       "\\item 'pub\\_rec'\n",
       "\\item 'revol\\_bal'\n",
       "\\item 'revol\\_util'\n",
       "\\item 'total\\_acc'\n",
       "\\item 'initial\\_list\\_status'\n",
       "\\item 'out\\_prncp'\n",
       "\\item 'out\\_prncp\\_inv'\n",
       "\\item 'total\\_pymnt'\n",
       "\\item 'total\\_pymnt\\_inv'\n",
       "\\item 'total\\_rec\\_prncp'\n",
       "\\item 'total\\_rec\\_int'\n",
       "\\item 'total\\_rec\\_late\\_fee'\n",
       "\\item 'recoveries'\n",
       "\\item 'collection\\_recovery\\_fee'\n",
       "\\item 'last\\_pymnt\\_d'\n",
       "\\item 'last\\_pymnt\\_amnt'\n",
       "\\item 'next\\_pymnt\\_d'\n",
       "\\item 'last\\_credit\\_pull\\_d'\n",
       "\\item 'collections\\_12\\_mths\\_ex\\_med'\n",
       "\\item 'policy\\_code'\n",
       "\\item 'application\\_type'\n",
       "\\item 'verification\\_status\\_joint'\n",
       "\\item 'acc\\_now\\_delinq'\n",
       "\\item 'tot\\_coll\\_amt'\n",
       "\\item 'tot\\_cur\\_bal'\n",
       "\\item 'total\\_rev\\_hi\\_lim'\n",
       "\\end{enumerate*}\n"
      ],
      "text/markdown": [
       "1. 'id'\n",
       "2. 'member_id'\n",
       "3. 'loan_amnt'\n",
       "4. 'funded_amnt'\n",
       "5. 'funded_amnt_inv'\n",
       "6. 'term'\n",
       "7. 'int_rate'\n",
       "8. 'installment'\n",
       "9. 'grade'\n",
       "10. 'sub_grade'\n",
       "11. 'emp_title'\n",
       "12. 'emp_length'\n",
       "13. 'home_ownership'\n",
       "14. 'annual_inc'\n",
       "15. 'verification_status'\n",
       "16. 'issue_d'\n",
       "17. 'loan_status'\n",
       "18. 'pymnt_plan'\n",
       "19. 'url'\n",
       "20. 'desc'\n",
       "21. 'purpose'\n",
       "22. 'title'\n",
       "23. 'zip_code'\n",
       "24. 'addr_state'\n",
       "25. 'dti'\n",
       "26. 'delinq_2yrs'\n",
       "27. 'earliest_cr_line'\n",
       "28. 'inq_last_6mths'\n",
       "29. 'open_acc'\n",
       "30. 'pub_rec'\n",
       "31. 'revol_bal'\n",
       "32. 'revol_util'\n",
       "33. 'total_acc'\n",
       "34. 'initial_list_status'\n",
       "35. 'out_prncp'\n",
       "36. 'out_prncp_inv'\n",
       "37. 'total_pymnt'\n",
       "38. 'total_pymnt_inv'\n",
       "39. 'total_rec_prncp'\n",
       "40. 'total_rec_int'\n",
       "41. 'total_rec_late_fee'\n",
       "42. 'recoveries'\n",
       "43. 'collection_recovery_fee'\n",
       "44. 'last_pymnt_d'\n",
       "45. 'last_pymnt_amnt'\n",
       "46. 'next_pymnt_d'\n",
       "47. 'last_credit_pull_d'\n",
       "48. 'collections_12_mths_ex_med'\n",
       "49. 'policy_code'\n",
       "50. 'application_type'\n",
       "51. 'verification_status_joint'\n",
       "52. 'acc_now_delinq'\n",
       "53. 'tot_coll_amt'\n",
       "54. 'tot_cur_bal'\n",
       "55. 'total_rev_hi_lim'\n",
       "\n",
       "\n"
      ],
      "text/plain": [
       " [1] \"id\"                         \"member_id\"                 \n",
       " [3] \"loan_amnt\"                  \"funded_amnt\"               \n",
       " [5] \"funded_amnt_inv\"            \"term\"                      \n",
       " [7] \"int_rate\"                   \"installment\"               \n",
       " [9] \"grade\"                      \"sub_grade\"                 \n",
       "[11] \"emp_title\"                  \"emp_length\"                \n",
       "[13] \"home_ownership\"             \"annual_inc\"                \n",
       "[15] \"verification_status\"        \"issue_d\"                   \n",
       "[17] \"loan_status\"                \"pymnt_plan\"                \n",
       "[19] \"url\"                        \"desc\"                      \n",
       "[21] \"purpose\"                    \"title\"                     \n",
       "[23] \"zip_code\"                   \"addr_state\"                \n",
       "[25] \"dti\"                        \"delinq_2yrs\"               \n",
       "[27] \"earliest_cr_line\"           \"inq_last_6mths\"            \n",
       "[29] \"open_acc\"                   \"pub_rec\"                   \n",
       "[31] \"revol_bal\"                  \"revol_util\"                \n",
       "[33] \"total_acc\"                  \"initial_list_status\"       \n",
       "[35] \"out_prncp\"                  \"out_prncp_inv\"             \n",
       "[37] \"total_pymnt\"                \"total_pymnt_inv\"           \n",
       "[39] \"total_rec_prncp\"            \"total_rec_int\"             \n",
       "[41] \"total_rec_late_fee\"         \"recoveries\"                \n",
       "[43] \"collection_recovery_fee\"    \"last_pymnt_d\"              \n",
       "[45] \"last_pymnt_amnt\"            \"next_pymnt_d\"              \n",
       "[47] \"last_credit_pull_d\"         \"collections_12_mths_ex_med\"\n",
       "[49] \"policy_code\"                \"application_type\"          \n",
       "[51] \"verification_status_joint\"  \"acc_now_delinq\"            \n",
       "[53] \"tot_coll_amt\"               \"tot_cur_bal\"               \n",
       "[55] \"total_rev_hi_lim\"          "
      ]
     },
     "metadata": {},
     "output_type": "display_data"
    }
   ],
   "source": [
    "colnames(df2)"
   ]
  },
  {
   "cell_type": "code",
   "execution_count": 10,
   "metadata": {
    "scrolled": true
   },
   "outputs": [
    {
     "data": {
      "text/html": [
       "<ol class=list-inline>\n",
       "\t<li>Current</li>\n",
       "\t<li>Fully Paid</li>\n",
       "\t<li>Late (31-120 days)</li>\n",
       "\t<li>Late (16-30 days)</li>\n",
       "\t<li>Charged Off</li>\n",
       "\t<li>In Grace Period</li>\n",
       "\t<li>Default</li>\n",
       "\t<li>Issued</li>\n",
       "</ol>\n",
       "\n",
       "<details>\n",
       "\t<summary style=display:list-item;cursor:pointer>\n",
       "\t\t<strong>Levels</strong>:\n",
       "\t</summary>\n",
       "\t<ol class=list-inline>\n",
       "\t\t<li>'Charged Off'</li>\n",
       "\t\t<li>'Current'</li>\n",
       "\t\t<li>'Default'</li>\n",
       "\t\t<li>'Does not meet the credit policy. Status:Charged Off'</li>\n",
       "\t\t<li>'Does not meet the credit policy. Status:Fully Paid'</li>\n",
       "\t\t<li>'Fully Paid'</li>\n",
       "\t\t<li>'In Grace Period'</li>\n",
       "\t\t<li>'Issued'</li>\n",
       "\t\t<li>'Late (16-30 days)'</li>\n",
       "\t\t<li>'Late (31-120 days)'</li>\n",
       "\t</ol>\n",
       "</details>"
      ],
      "text/latex": [
       "\\begin{enumerate*}\n",
       "\\item Current\n",
       "\\item Fully Paid\n",
       "\\item Late (31-120 days)\n",
       "\\item Late (16-30 days)\n",
       "\\item Charged Off\n",
       "\\item In Grace Period\n",
       "\\item Default\n",
       "\\item Issued\n",
       "\\end{enumerate*}\n",
       "\n",
       "\\emph{Levels}: \\begin{enumerate*}\n",
       "\\item 'Charged Off'\n",
       "\\item 'Current'\n",
       "\\item 'Default'\n",
       "\\item 'Does not meet the credit policy. Status:Charged Off'\n",
       "\\item 'Does not meet the credit policy. Status:Fully Paid'\n",
       "\\item 'Fully Paid'\n",
       "\\item 'In Grace Period'\n",
       "\\item 'Issued'\n",
       "\\item 'Late (16-30 days)'\n",
       "\\item 'Late (31-120 days)'\n",
       "\\end{enumerate*}\n"
      ],
      "text/markdown": [
       "1. Current\n",
       "2. Fully Paid\n",
       "3. Late (31-120 days)\n",
       "4. Late (16-30 days)\n",
       "5. Charged Off\n",
       "6. In Grace Period\n",
       "7. Default\n",
       "8. Issued\n",
       "\n",
       "\n",
       "\n",
       "**Levels**: 1. 'Charged Off'\n",
       "2. 'Current'\n",
       "3. 'Default'\n",
       "4. 'Does not meet the credit policy. Status:Charged Off'\n",
       "5. 'Does not meet the credit policy. Status:Fully Paid'\n",
       "6. 'Fully Paid'\n",
       "7. 'In Grace Period'\n",
       "8. 'Issued'\n",
       "9. 'Late (16-30 days)'\n",
       "10. 'Late (31-120 days)'\n",
       "\n",
       "\n"
      ],
      "text/plain": [
       "[1] Current            Fully Paid         Late (31-120 days) Late (16-30 days) \n",
       "[5] Charged Off        In Grace Period    Default            Issued            \n",
       "10 Levels: Charged Off Current ... Late (31-120 days)"
      ]
     },
     "metadata": {},
     "output_type": "display_data"
    }
   ],
   "source": [
    "unique(df2$loan_status)"
   ]
  },
  {
   "cell_type": "code",
   "execution_count": 20,
   "metadata": {},
   "outputs": [],
   "source": [
    "df2$loan_status <- as.character(df2$loan_status)"
   ]
  },
  {
   "cell_type": "code",
   "execution_count": 61,
   "metadata": {
    "scrolled": false
   },
   "outputs": [
    {
     "data": {
      "text/html": [
       "<ol class=list-inline>\n",
       "\t<li>'Current'</li>\n",
       "\t<li>'Current'</li>\n",
       "\t<li>'Current'</li>\n",
       "\t<li>'Fully Paid'</li>\n",
       "\t<li>'Current'</li>\n",
       "\t<li>'Current'</li>\n",
       "\t<li>'Current'</li>\n",
       "\t<li>'Current'</li>\n",
       "\t<li>'Current'</li>\n",
       "\t<li>'Fully Paid'</li>\n",
       "\t<li>'Current'</li>\n",
       "\t<li>'Fully Paid'</li>\n",
       "\t<li>'Current'</li>\n",
       "\t<li>'Current'</li>\n",
       "\t<li>'Fully Paid'</li>\n",
       "\t<li>'Late (31-120 days)'</li>\n",
       "\t<li>'Late (16-30 days)'</li>\n",
       "\t<li>'Fully Paid'</li>\n",
       "\t<li>'Current'</li>\n",
       "\t<li>'Fully Paid'</li>\n",
       "</ol>\n"
      ],
      "text/latex": [
       "\\begin{enumerate*}\n",
       "\\item 'Current'\n",
       "\\item 'Current'\n",
       "\\item 'Current'\n",
       "\\item 'Fully Paid'\n",
       "\\item 'Current'\n",
       "\\item 'Current'\n",
       "\\item 'Current'\n",
       "\\item 'Current'\n",
       "\\item 'Current'\n",
       "\\item 'Fully Paid'\n",
       "\\item 'Current'\n",
       "\\item 'Fully Paid'\n",
       "\\item 'Current'\n",
       "\\item 'Current'\n",
       "\\item 'Fully Paid'\n",
       "\\item 'Late (31-120 days)'\n",
       "\\item 'Late (16-30 days)'\n",
       "\\item 'Fully Paid'\n",
       "\\item 'Current'\n",
       "\\item 'Fully Paid'\n",
       "\\end{enumerate*}\n"
      ],
      "text/markdown": [
       "1. 'Current'\n",
       "2. 'Current'\n",
       "3. 'Current'\n",
       "4. 'Fully Paid'\n",
       "5. 'Current'\n",
       "6. 'Current'\n",
       "7. 'Current'\n",
       "8. 'Current'\n",
       "9. 'Current'\n",
       "10. 'Fully Paid'\n",
       "11. 'Current'\n",
       "12. 'Fully Paid'\n",
       "13. 'Current'\n",
       "14. 'Current'\n",
       "15. 'Fully Paid'\n",
       "16. 'Late (31-120 days)'\n",
       "17. 'Late (16-30 days)'\n",
       "18. 'Fully Paid'\n",
       "19. 'Current'\n",
       "20. 'Fully Paid'\n",
       "\n",
       "\n"
      ],
      "text/plain": [
       " [1] \"Current\"            \"Current\"            \"Current\"           \n",
       " [4] \"Fully Paid\"         \"Current\"            \"Current\"           \n",
       " [7] \"Current\"            \"Current\"            \"Current\"           \n",
       "[10] \"Fully Paid\"         \"Current\"            \"Fully Paid\"        \n",
       "[13] \"Current\"            \"Current\"            \"Fully Paid\"        \n",
       "[16] \"Late (31-120 days)\" \"Late (16-30 days)\"  \"Fully Paid\"        \n",
       "[19] \"Current\"            \"Fully Paid\"        "
      ]
     },
     "metadata": {},
     "output_type": "display_data"
    }
   ],
   "source": [
    "head(df2$loan_status, 20)"
   ]
  },
  {
   "cell_type": "code",
   "execution_count": 23,
   "metadata": {
    "scrolled": false
   },
   "outputs": [
    {
     "name": "stdout",
     "output_type": "stream",
     "text": [
      "[1] \"Current\"            \"Fully Paid\"         \"Late (31-120 days)\"\n",
      "[4] \"Late (16-30 days)\"  \"Charged Off\"        \"In Grace Period\"   \n",
      "[7] \"Default\"            \"Issued\"            \n"
     ]
    }
   ],
   "source": [
    "print(unique(df2$loan_status))"
   ]
  },
  {
   "cell_type": "code",
   "execution_count": 59,
   "metadata": {},
   "outputs": [],
   "source": [
    "df2$loan_rate <- ifelse(df2$loan_status == \"Current\" | df2$loan_status == \"Issued\", 2,\n",
    "                         ifelse(df2$loan_status == \"Fully Paid\", 1, 0))"
   ]
  },
  {
   "cell_type": "code",
   "execution_count": 60,
   "metadata": {
    "scrolled": true
   },
   "outputs": [
    {
     "data": {
      "text/html": [
       "<ol class=list-inline>\n",
       "\t<li>2</li>\n",
       "\t<li>2</li>\n",
       "\t<li>2</li>\n",
       "\t<li>1</li>\n",
       "\t<li>2</li>\n",
       "\t<li>2</li>\n",
       "\t<li>2</li>\n",
       "\t<li>2</li>\n",
       "\t<li>2</li>\n",
       "\t<li>1</li>\n",
       "\t<li>2</li>\n",
       "\t<li>1</li>\n",
       "\t<li>2</li>\n",
       "\t<li>2</li>\n",
       "\t<li>1</li>\n",
       "\t<li>0</li>\n",
       "\t<li>0</li>\n",
       "\t<li>1</li>\n",
       "\t<li>2</li>\n",
       "\t<li>1</li>\n",
       "</ol>\n"
      ],
      "text/latex": [
       "\\begin{enumerate*}\n",
       "\\item 2\n",
       "\\item 2\n",
       "\\item 2\n",
       "\\item 1\n",
       "\\item 2\n",
       "\\item 2\n",
       "\\item 2\n",
       "\\item 2\n",
       "\\item 2\n",
       "\\item 1\n",
       "\\item 2\n",
       "\\item 1\n",
       "\\item 2\n",
       "\\item 2\n",
       "\\item 1\n",
       "\\item 0\n",
       "\\item 0\n",
       "\\item 1\n",
       "\\item 2\n",
       "\\item 1\n",
       "\\end{enumerate*}\n"
      ],
      "text/markdown": [
       "1. 2\n",
       "2. 2\n",
       "3. 2\n",
       "4. 1\n",
       "5. 2\n",
       "6. 2\n",
       "7. 2\n",
       "8. 2\n",
       "9. 2\n",
       "10. 1\n",
       "11. 2\n",
       "12. 1\n",
       "13. 2\n",
       "14. 2\n",
       "15. 1\n",
       "16. 0\n",
       "17. 0\n",
       "18. 1\n",
       "19. 2\n",
       "20. 1\n",
       "\n",
       "\n"
      ],
      "text/plain": [
       " [1] 2 2 2 1 2 2 2 2 2 1 2 1 2 2 1 0 0 1 2 1"
      ]
     },
     "metadata": {},
     "output_type": "display_data"
    }
   ],
   "source": [
    "head(df2$loan_rate, 20)"
   ]
  },
  {
   "cell_type": "code",
   "execution_count": 63,
   "metadata": {},
   "outputs": [],
   "source": [
    "write.csv(df2, \"cleaned_loan_data.csv\")"
   ]
  },
  {
   "cell_type": "code",
   "execution_count": 65,
   "metadata": {},
   "outputs": [
    {
     "data": {
      "text/html": [
       "56376"
      ],
      "text/latex": [
       "56376"
      ],
      "text/markdown": [
       "56376"
      ],
      "text/plain": [
       "[1] 56376"
      ]
     },
     "metadata": {},
     "output_type": "display_data"
    }
   ],
   "source": [
    "sum(df2$loan_rate == 0)"
   ]
  },
  {
   "cell_type": "code",
   "execution_count": 66,
   "metadata": {},
   "outputs": [
    {
     "data": {
      "text/html": [
       "153936"
      ],
      "text/latex": [
       "153936"
      ],
      "text/markdown": [
       "153936"
      ],
      "text/plain": [
       "[1] 153936"
      ]
     },
     "metadata": {},
     "output_type": "display_data"
    }
   ],
   "source": [
    "sum(df2$loan_rate == 1)"
   ]
  },
  {
   "cell_type": "code",
   "execution_count": 67,
   "metadata": {},
   "outputs": [
    {
     "data": {
      "text/html": [
       "605899"
      ],
      "text/latex": [
       "605899"
      ],
      "text/markdown": [
       "605899"
      ],
      "text/plain": [
       "[1] 605899"
      ]
     },
     "metadata": {},
     "output_type": "display_data"
    }
   ],
   "source": [
    "sum(df2$loan_rate == 2)"
   ]
  },
  {
   "cell_type": "code",
   "execution_count": 70,
   "metadata": {},
   "outputs": [
    {
     "data": {
      "text/html": [
       "TRUE"
      ],
      "text/latex": [
       "TRUE"
      ],
      "text/markdown": [
       "TRUE"
      ],
      "text/plain": [
       "[1] TRUE"
      ]
     },
     "metadata": {},
     "output_type": "display_data"
    }
   ],
   "source": [
    "nrow(df2) == sum(df2$loan_rate == 0) + sum(df2$loan_rate == 1) + sum(df2$loan_rate == 2)"
   ]
  },
  {
   "cell_type": "code",
   "execution_count": null,
   "metadata": {},
   "outputs": [],
   "source": []
  }
 ],
 "metadata": {
  "kernelspec": {
   "display_name": "R",
   "language": "R",
   "name": "ir"
  },
  "language_info": {
   "codemirror_mode": "r",
   "file_extension": ".r",
   "mimetype": "text/x-r-source",
   "name": "R",
   "pygments_lexer": "r",
   "version": "3.5.1"
  }
 },
 "nbformat": 4,
 "nbformat_minor": 2
}
